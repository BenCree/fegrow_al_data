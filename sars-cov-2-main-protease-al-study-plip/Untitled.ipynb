{
 "cells": [
  {
   "cell_type": "code",
   "execution_count": null,
   "id": "925c0a97-2cca-4889-aaa2-99c26f504193",
   "metadata": {},
   "outputs": [],
   "source": [
    "import copy\n",
    "import time\n",
    "import sys\n",
    "import tempfile\n",
    "import os\n",
    "from pathlib import Path\n",
    "import logging\n",
    "import datetime\n",
    "import threading\n",
    "import queue\n",
    "import cProfile\n",
    "import functools\n",
    "\n",
    "#import dask\n",
    "#from dask import array\n",
    "import numpy\n",
    "#from dask.distributed import Client, performance_report\n",
    "from rdkit import Chem\n",
    "from rdkit.Chem import AllChem\n",
    "from rdkit.Chem import Descriptors\n",
    "#import ml_collections\n",
    "import parmed\n",
    "import warnings\n",
    "from plip.structure.preparation import PDBComplex\n",
    "\n",
    "import fegrow\n",
    "\n",
    "#import al_for_fep.models.sklearn_gaussian_process_model\n",
    "\n",
    "# log = logging.getLogger(__name__)\n",
    "# logging.basicConfig(level=logging.INFO)\n",
    "\n",
    "# try:\n",
    "#     from mycluster import create_cluster\n",
    "# except ImportError:\n",
    "#     def create_cluster():\n",
    "#         from dask.distributed import LocalCluster\n",
    "#         return LocalCluster()\n",
    "\n",
    "\n",
    "# xstal interactions from 24 mpro fragments\n",
    "mpro_crystal_structures_interactions = {'hacceptor_THR_25_8',\n",
    "                                         'hdonor_THR_25_8',\n",
    "                                         'hydrophobic_THR_25',\n",
    "                                         'hacceptor_HIS_41_8',\n",
    "                                         'hydrophobic_HIS_41',\n",
    "                                         'pistacking_HIS_41',\n",
    "                                         'hacceptor_CYS_44_8',\n",
    "                                         'hydrophobic_PHE_140',\n",
    "                                         'hacceptor_ASN_142_8',\n",
    "                                         'hdonor_ASN_142_7',\n",
    "                                         'hdonor_GLY_143_7',\n",
    "                                        'hacceptor_SER_144_8',\n",
    "                                        'hdonor_SER_144_7',\n",
    "                                        'hdonor_SER_144_8',\n",
    "                                        'hdonor_CYS_145_7',\n",
    "                                        'hacceptor_HIS_163_7',\n",
    "                                        'hydrophobic_MET_165',\n",
    "                                        'hacceptor_GLU_166_8',\n",
    "                                        'hdonor_GLU_166_7',\n",
    "                                        'hdonor_GLU_166_8',\n",
    "                                        'hydrophobic_GLU_166',\n",
    "                                        'saltbridge_GLU_166',\n",
    "                                        'hydrophobic_PRO_168',\n",
    "                                        'hydrophobic_ASP_187',\n",
    "                                        'hacceptor_GLN_189_8',\n",
    "                                        'hdonor_GLN_189_7',\n",
    "                                        'hydrophobic_GLN_189'}\n",
    "\n",
    "\n",
    "def plip_mpro_merge_score(protein, ligand):\n",
    "    with tempfile.TemporaryDirectory() as TD:\n",
    "\n",
    "        # turn the rdkit.Mol into an SDF file\n",
    "        if isinstance(ligand, Chem.Mol):\n",
    "            ligand_path = os.path.join(TD, \"ligand.sdf\")\n",
    "            with Chem.SDWriter(ligand_path) as SD:\n",
    "                SD.write(ligand)\n",
    "                ligand = ligand_path\n",
    "\n",
    "        lig = parmed.load_file(ligand)\n",
    "        if isinstance(lig, list):\n",
    "            warnings.warn(\"The ligand was an array (SDF?). Using the first frame. \")\n",
    "            lig = lig[0]\n",
    "        protein = parmed.load_file(protein)\n",
    "        system = protein + lig\n",
    "        complex_path = os.path.join(TD, \"complex.pdb\")\n",
    "        system.save(complex_path, renumber=False)\n",
    "        return plip_mpro_score(str(complex_path))\n",
    "\n",
    "def plip_mpro_score(complex_path):\n",
    "    \"\"\"\n",
    "    Get all the protein interactions from the interactions between the protein and the ligand\n",
    "\n",
    "    Args:\n",
    "        complex_path:\n",
    "\n",
    "    Returns: A list of strings\n",
    "    \"\"\"\n",
    "    complex = PDBComplex()\n",
    "    complex.load_pdb(complex_path) # Load the PDB file into PLIP class\n",
    "    complex.analyze()\n",
    "\n",
    "    # assume there is only one ligand for now\n",
    "    if len(complex.interaction_sets) != 1:\n",
    "        raise ValueError(\"PLIP detected more (or less) than one ligand?!\")\n",
    "\n",
    "    # pair key and values\n",
    "    interactions = list(complex.interaction_sets.values())[0]\n",
    "\n",
    "    # take all the interactions\n",
    "    hydrophobic_contacts = [\"hydrophobic_\" + c.restype + \"_\" + str(c.resnr) for c in interactions.hydrophobic_contacts]\n",
    "    # extract protein donors\n",
    "    hdonors = [\"hdonor_\" + d.restype + \"_\" + str(d.resnr) + \"_\" + str(d.d.atomicnum) for d in interactions.hbonds_pdon]\n",
    "    # extract protein acceptors\n",
    "    hacceptors = [\"hacceptor_\" + a.restype + \"_\" + str(a.resnr) + \"_\" + str(a.a.atomicnum) for a in interactions.hbonds_ldon]\n",
    "    pistacking = [\"pistacking_\" + r.restype + \"_\" + str(r.resnr) for r in interactions.pistacking]\n",
    "    saltbridge = [\"saltbridge_\" + r.restype + \"_\" + str(r.resnr) for r in  interactions.saltbridge_pneg]\n",
    "    waterbridge = [\"waterbridge_\" + r.restype + \"_\" + str(r.resnr) for r in interactions.water_bridges]\n",
    "    pication = [\"pication_\" + r.restype + \"_\" + str(r.resnr) for r in interactions.pication_paro]\n",
    "    halogen_bond = [\"halogenbond_\" + r.restype + \"_\" + str(r.resnr) for r in interactions.halogen_bonds]\n",
    "    metal_complex = [\"metalcomplex_\" + r.restype + \"_\" + str(r.resnr) for r in interactions.metal_complexes]\n",
    "\n",
    "    protein_interaction_fingerprints = (hydrophobic_contacts +\n",
    "                                        hdonors +\n",
    "                                        hacceptors +\n",
    "                                        pistacking +\n",
    "                                        saltbridge +\n",
    "                                        waterbridge +\n",
    "                                        pication +\n",
    "                                        halogen_bond +\n",
    "                                        metal_complex)\n",
    "\n",
    "    intersection = len(mpro_crystal_structures_interactions.intersection(protein_interaction_fingerprints))\n",
    "    count = len(mpro_crystal_structures_interactions) + len(protein_interaction_fingerprints)\n",
    "    tanimoto_distance = intersection / (count - intersection)\n",
    "\n",
    "    return protein_interaction_fingerprints, tanimoto_distance\n",
    "\n",
    "mpro_crystal_structures_interactions = {'hacceptor_THR_25_8',\n",
    "                                         'hdonor_THR_25_8',\n",
    "                                         'hydrophobic_THR_25',\n",
    "                                         'hacceptor_HIS_41_8',\n",
    "                                         'hydrophobic_HIS_41',\n",
    "                                         'pistacking_HIS_41',\n",
    "                                         'hacceptor_CYS_44_8',\n",
    "                                         'hydrophobic_PHE_140',\n",
    "                                         'hacceptor_ASN_142_8',\n",
    "                                         'hdonor_ASN_142_7',\n",
    "                                         'hdonor_GLY_143_7',\n",
    "                                        'hacceptor_SER_144_8',\n",
    "                                        'hdonor_SER_144_7',\n",
    "                                        'hdonor_SER_144_8',\n",
    "                                        'hdonor_CYS_145_7',\n",
    "                                        'hacceptor_HIS_163_7',\n",
    "                                        'hydrophobic_MET_165',\n",
    "                                        'hacceptor_GLU_166_8',\n",
    "                                        'hdonor_GLU_166_7',\n",
    "                                        'hdonor_GLU_166_8',\n",
    "                                        'hydrophobic_GLU_166',\n",
    "                                        'saltbridge_GLU_166',\n",
    "                                        'hydrophobic_PRO_168',\n",
    "                                        'hydrophobic_ASP_187',\n",
    "                                        'hacceptor_GLN_189_8',\n",
    "                                        'hdonor_GLN_189_7',\n",
    "                                        'hydrophobic_GLN_189'}\n",
    "\n",
    "os.chdir('/home/cree/code/gal/cs50k/enamine_study/sars-cov-2-main-protease-al-study-plip')\n",
    "\n",
    "i_dict = {}\n",
    "struc_dir = './plip_tests'\n",
    "for i in [1,5,6,10]:\n",
    "    i_dict[str(i)] = itrns, _ = plip_mpro_score(struc_dir+f'/{i}_complexh.pdb')\n",
    "\n",
    "i_dict"
   ]
  },
  {
   "cell_type": "code",
   "execution_count": 18,
   "id": "b7baca7f-b20b-4287-884a-9c35c31ff926",
   "metadata": {},
   "outputs": [],
   "source": []
  },
  {
   "cell_type": "code",
   "execution_count": 8,
   "id": "2de019b0-f002-44e7-8b6d-9c1634d6e8f8",
   "metadata": {},
   "outputs": [
    {
     "data": {
      "text/plain": [
       "23"
      ]
     },
     "execution_count": 8,
     "metadata": {},
     "output_type": "execute_result"
    }
   ],
   "source": [
    "import glob\n",
    "os.chdir('./plip_tests/extracting_reference/')\n",
    "pdbs = glob.glob('*pdb')\n",
    "len(pdbs)"
   ]
  },
  {
   "cell_type": "code",
   "execution_count": null,
   "id": "a8005309-2358-4075-be51-524be0b2da10",
   "metadata": {},
   "outputs": [],
   "source": [
    "x_dict = {}\n",
    "os.chdir('/home/cree/code/gal/cs50k/enamine_study/sars-cov-2-main-protease-al-study-plip/plip_tests/extracting_reference/')\n",
    "pdbs = glob.glob('*pdb')\n",
    "os.chdir('/home/cree/code/gal/cs50k/enamine_study/sars-cov-2-main-protease-al-study-plip/plip_tests/extracting_reference')\n",
    "struc_dir = './plip_tests'\n",
    "for pdb in pdbs:\n",
    "    x_dict[str(pdb)] = itrns, _ = plip_mpro_score(pdb)"
   ]
  },
  {
   "cell_type": "code",
   "execution_count": null,
   "id": "dae1b844-1292-4b99-ac65-5491bf2f1b23",
   "metadata": {},
   "outputs": [],
   "source": [
    "dict_values = x_dict.values()\n",
    "\n",
    "flattened_values = [] # list to hold flattened values\n",
    "\n",
    "# loop through each tuple in the dictionary values\n",
    "for value in x_dict.values():\n",
    "    # extend the list with the list part of the tuple\n",
    "    flattened_values.extend(value[0])\n",
    "    # append the list with the numerical part of the tuple\n",
    "    flattened_values.append(value[1])\n",
    "\n",
    "set(flattened_values)"
   ]
  },
  {
   "cell_type": "code",
   "execution_count": 47,
   "id": "c9751c33-7360-4ed2-a2df-344143c8c281",
   "metadata": {},
   "outputs": [
    {
     "data": {
      "text/plain": [
       "26"
      ]
     },
     "execution_count": 47,
     "metadata": {},
     "output_type": "execute_result"
    }
   ],
   "source": [
    "ref_i = ['hacceptor_ASN_142_8',\n",
    " 'hacceptor_CYS_44_8',\n",
    " 'hacceptor_GLN_189_8',\n",
    " 'hacceptor_GLU_166_8',\n",
    " 'hacceptor_HIS_163_7',\n",
    " 'hacceptor_HIS_41_8',\n",
    " 'hacceptor_SER_144_8',\n",
    " 'hdonor_ASN_142_7',\n",
    " 'hdonor_CYS_145_7',\n",
    " 'hdonor_GLN_189_7',\n",
    " 'hdonor_GLU_166_7',\n",
    " 'hdonor_GLU_166_8',\n",
    " 'hdonor_GLY_143_7',\n",
    " 'hdonor_SER_144_7',\n",
    " 'hdonor_SER_144_8',\n",
    " 'hdonor_THR_25_8',\n",
    " 'hydrophobic_ASP_187',\n",
    " 'hydrophobic_GLN_189',\n",
    " 'hydrophobic_GLU_166',\n",
    " 'hydrophobic_HIS_41',\n",
    " 'hydrophobic_MET_165',\n",
    " 'hydrophobic_PHE_140',\n",
    " 'hydrophobic_PRO_168',\n",
    " 'hydrophobic_THR_25',\n",
    " 'pistacking_HIS_41',\n",
    " 'saltbridge_GLU_166']\n",
    "len(ref_i)"
   ]
  },
  {
   "cell_type": "code",
   "execution_count": 9,
   "id": "102d93c5-b19a-4208-876e-af185cc62cc7",
   "metadata": {},
   "outputs": [
    {
     "data": {
      "text/plain": [
       "{'hacceptor_ASN_142_8',\n",
       " 'hacceptor_CYS_44_8',\n",
       " 'hacceptor_GLN_189_8',\n",
       " 'hacceptor_GLU_166_8',\n",
       " 'hacceptor_HIS_163_7',\n",
       " 'hacceptor_HIS_41_8',\n",
       " 'hacceptor_SER_144_8',\n",
       " 'hacceptor_THR_25_8',\n",
       " 'hdonor_ASN_142_7',\n",
       " 'hdonor_CYS_145_7',\n",
       " 'hdonor_GLN_189_7',\n",
       " 'hdonor_GLU_166_7',\n",
       " 'hdonor_GLU_166_8',\n",
       " 'hdonor_GLY_143_7',\n",
       " 'hdonor_SER_144_7',\n",
       " 'hdonor_SER_144_8',\n",
       " 'hdonor_THR_25_8',\n",
       " 'hydrophobic_ASP_187',\n",
       " 'hydrophobic_GLN_189',\n",
       " 'hydrophobic_GLU_166',\n",
       " 'hydrophobic_HIS_41',\n",
       " 'hydrophobic_MET_165',\n",
       " 'hydrophobic_PHE_140',\n",
       " 'hydrophobic_PRO_168',\n",
       " 'hydrophobic_THR_25',\n",
       " 'pistacking_HIS_41',\n",
       " 'saltbridge_GLU_166'}"
      ]
     },
     "execution_count": 9,
     "metadata": {},
     "output_type": "execute_result"
    }
   ],
   "source": [
    "mpro_crystal_structures_interactions = {'hacceptor_THR_25_8',\n",
    "                                         'hdonor_THR_25_8',\n",
    "                                         'hydrophobic_THR_25',\n",
    "                                         'hacceptor_HIS_41_8',\n",
    "                                         'hydrophobic_HIS_41',\n",
    "                                         'pistacking_HIS_41',\n",
    "                                         'hacceptor_CYS_44_8',\n",
    "                                         'hydrophobic_PHE_140',\n",
    "                                         'hacceptor_ASN_142_8',\n",
    "                                         'hdonor_ASN_142_7',\n",
    "                                         'hdonor_GLY_143_7',\n",
    "                                        'hacceptor_SER_144_8',\n",
    "                                        'hdonor_SER_144_7',\n",
    "                                        'hdonor_SER_144_8',\n",
    "                                        'hdonor_CYS_145_7',\n",
    "                                        'hacceptor_HIS_163_7',\n",
    "                                        'hydrophobic_MET_165',\n",
    "                                        'hacceptor_GLU_166_8',\n",
    "                                        'hdonor_GLU_166_7',\n",
    "                                        'hdonor_GLU_166_8',\n",
    "                                        'hydrophobic_GLU_166',\n",
    "                                        'saltbridge_GLU_166',\n",
    "                                        'hydrophobic_PRO_168',\n",
    "                                        'hydrophobic_ASP_187',\n",
    "                                        'hacceptor_GLN_189_8',\n",
    "                                        'hdonor_GLN_189_7',\n",
    "                                        'hydrophobic_GLN_189'}\n",
    "set(mpro_crystal_structures_interactions)"
   ]
  },
  {
   "cell_type": "code",
   "execution_count": 10,
   "id": "8d4dbd50-83e6-4d73-9806-0569dbb676e7",
   "metadata": {},
   "outputs": [
    {
     "ename": "NameError",
     "evalue": "name 'ref_i' is not defined",
     "output_type": "error",
     "traceback": [
      "\u001b[0;31m---------------------------------------------------------------------------\u001b[0m",
      "\u001b[0;31mNameError\u001b[0m                                 Traceback (most recent call last)",
      "Cell \u001b[0;32mIn[10], line 2\u001b[0m\n\u001b[1;32m      1\u001b[0m set1 \u001b[38;5;241m=\u001b[39m mpro_crystal_structures_interactions\n\u001b[0;32m----> 2\u001b[0m set2 \u001b[38;5;241m=\u001b[39m \u001b[38;5;28mset\u001b[39m(\u001b[43mref_i\u001b[49m)\n\u001b[1;32m      3\u001b[0m \u001b[38;5;66;03m# calculate differences\u001b[39;00m\n\u001b[1;32m      4\u001b[0m difference_set1_set2 \u001b[38;5;241m=\u001b[39m set1 \u001b[38;5;241m-\u001b[39m set2\n",
      "\u001b[0;31mNameError\u001b[0m: name 'ref_i' is not defined"
     ]
    }
   ],
   "source": [
    "set1 = mpro_crystal_structures_interactions\n",
    "set2 = set(ref_i)\n",
    "# calculate differences\n",
    "difference_set1_set2 = set1 - set2\n",
    "difference_set2_set1 = set2 - set1\n",
    "\n",
    "# print differences\n",
    "print(\"Unique to set 1:\", difference_set1_set2)\n",
    "print(\"Unique to set 2:\", difference_set2_set1)\n"
   ]
  },
  {
   "cell_type": "code",
   "execution_count": 15,
   "id": "c930ded1-d3c9-4b08-abea-9881fbe1c1c8",
   "metadata": {},
   "outputs": [
    {
     "ename": "FileNotFoundError",
     "evalue": "[Errno 2] No such file or directory: './1_complexh.pdb'",
     "output_type": "error",
     "traceback": [
      "\u001b[0;31m---------------------------------------------------------------------------\u001b[0m",
      "\u001b[0;31mFileNotFoundError\u001b[0m                         Traceback (most recent call last)",
      "Cell \u001b[0;32mIn[15], line 4\u001b[0m\n\u001b[1;32m      2\u001b[0m struc_dir \u001b[38;5;241m=\u001b[39m \u001b[38;5;124m'\u001b[39m\u001b[38;5;124m.\u001b[39m\u001b[38;5;124m'\u001b[39m\n\u001b[1;32m      3\u001b[0m \u001b[38;5;28;01mfor\u001b[39;00m i \u001b[38;5;129;01min\u001b[39;00m [\u001b[38;5;241m1\u001b[39m,\u001b[38;5;241m5\u001b[39m,\u001b[38;5;241m6\u001b[39m,\u001b[38;5;241m10\u001b[39m]:\n\u001b[0;32m----> 4\u001b[0m     i_dict[\u001b[38;5;28mstr\u001b[39m(i)] \u001b[38;5;241m=\u001b[39m itrns, _ \u001b[38;5;241m=\u001b[39m \u001b[43mplip_mpro_score\u001b[49m\u001b[43m(\u001b[49m\u001b[43mstruc_dir\u001b[49m\u001b[38;5;241;43m+\u001b[39;49m\u001b[38;5;124;43mf\u001b[39;49m\u001b[38;5;124;43m'\u001b[39;49m\u001b[38;5;124;43m/\u001b[39;49m\u001b[38;5;132;43;01m{\u001b[39;49;00m\u001b[43mi\u001b[49m\u001b[38;5;132;43;01m}\u001b[39;49;00m\u001b[38;5;124;43m_complexh.pdb\u001b[39;49m\u001b[38;5;124;43m'\u001b[39;49m\u001b[43m)\u001b[49m\n\u001b[1;32m      6\u001b[0m i_dict\n",
      "Cell \u001b[0;32mIn[5], line 101\u001b[0m, in \u001b[0;36mplip_mpro_score\u001b[0;34m(complex_path)\u001b[0m\n\u001b[1;32m     92\u001b[0m \u001b[38;5;250m\u001b[39m\u001b[38;5;124;03m\"\"\"\u001b[39;00m\n\u001b[1;32m     93\u001b[0m \u001b[38;5;124;03mGet all the protein interactions from the interactions between the protein and the ligand\u001b[39;00m\n\u001b[1;32m     94\u001b[0m \n\u001b[0;32m   (...)\u001b[0m\n\u001b[1;32m     98\u001b[0m \u001b[38;5;124;03mReturns: A list of strings\u001b[39;00m\n\u001b[1;32m     99\u001b[0m \u001b[38;5;124;03m\"\"\"\u001b[39;00m\n\u001b[1;32m    100\u001b[0m \u001b[38;5;28mcomplex\u001b[39m \u001b[38;5;241m=\u001b[39m PDBComplex()\n\u001b[0;32m--> 101\u001b[0m \u001b[38;5;28;43mcomplex\u001b[39;49m\u001b[38;5;241;43m.\u001b[39;49m\u001b[43mload_pdb\u001b[49m\u001b[43m(\u001b[49m\u001b[43mcomplex_path\u001b[49m\u001b[43m)\u001b[49m \u001b[38;5;66;03m# Load the PDB file into PLIP class\u001b[39;00m\n\u001b[1;32m    102\u001b[0m \u001b[38;5;28mcomplex\u001b[39m\u001b[38;5;241m.\u001b[39manalyze()\n\u001b[1;32m    104\u001b[0m \u001b[38;5;66;03m# assume there is only one ligand for now\u001b[39;00m\n",
      "File \u001b[0;32m~/mambaforge/envs/fegrow/lib/python3.10/site-packages/plip/structure/preparation.py:1340\u001b[0m, in \u001b[0;36mPDBComplex.load_pdb\u001b[0;34m(self, pdbpath, as_string)\u001b[0m\n\u001b[1;32m   1338\u001b[0m     \u001b[38;5;28mself\u001b[39m\u001b[38;5;241m.\u001b[39msourcefiles[\u001b[38;5;124m'\u001b[39m\u001b[38;5;124mpdbcomplex\u001b[39m\u001b[38;5;124m'\u001b[39m] \u001b[38;5;241m=\u001b[39m pdbpath\n\u001b[1;32m   1339\u001b[0m \u001b[38;5;28mself\u001b[39m\u001b[38;5;241m.\u001b[39minformation[\u001b[38;5;124m'\u001b[39m\u001b[38;5;124mpdbfixes\u001b[39m\u001b[38;5;124m'\u001b[39m] \u001b[38;5;241m=\u001b[39m \u001b[38;5;28;01mFalse\u001b[39;00m\n\u001b[0;32m-> 1340\u001b[0m pdbparser \u001b[38;5;241m=\u001b[39m \u001b[43mPDBParser\u001b[49m\u001b[43m(\u001b[49m\u001b[43mpdbpath\u001b[49m\u001b[43m,\u001b[49m\u001b[43m \u001b[49m\u001b[43mas_string\u001b[49m\u001b[38;5;241;43m=\u001b[39;49m\u001b[43mas_string\u001b[49m\u001b[43m)\u001b[49m  \u001b[38;5;66;03m# Parse PDB file to find errors and get additional data\u001b[39;00m\n\u001b[1;32m   1341\u001b[0m \u001b[38;5;66;03m# #@todo Refactor and rename here\u001b[39;00m\n\u001b[1;32m   1342\u001b[0m \u001b[38;5;28mself\u001b[39m\u001b[38;5;241m.\u001b[39mMapper\u001b[38;5;241m.\u001b[39mproteinmap \u001b[38;5;241m=\u001b[39m pdbparser\u001b[38;5;241m.\u001b[39mproteinmap\n",
      "File \u001b[0;32m~/mambaforge/envs/fegrow/lib/python3.10/site-packages/plip/structure/preparation.py:29\u001b[0m, in \u001b[0;36mPDBParser.__init__\u001b[0;34m(self, pdbpath, as_string)\u001b[0m\n\u001b[1;32m     27\u001b[0m \u001b[38;5;28mself\u001b[39m\u001b[38;5;241m.\u001b[39mnum_fixed_lines \u001b[38;5;241m=\u001b[39m \u001b[38;5;241m0\u001b[39m\n\u001b[1;32m     28\u001b[0m \u001b[38;5;28mself\u001b[39m\u001b[38;5;241m.\u001b[39mcovlinkage \u001b[38;5;241m=\u001b[39m namedtuple(\u001b[38;5;124m\"\u001b[39m\u001b[38;5;124mcovlinkage\u001b[39m\u001b[38;5;124m\"\u001b[39m, \u001b[38;5;124m\"\u001b[39m\u001b[38;5;124mid1 chain1 pos1 conf1 id2 chain2 pos2 conf2\u001b[39m\u001b[38;5;124m\"\u001b[39m)\n\u001b[0;32m---> 29\u001b[0m \u001b[38;5;28mself\u001b[39m\u001b[38;5;241m.\u001b[39mproteinmap, \u001b[38;5;28mself\u001b[39m\u001b[38;5;241m.\u001b[39mmodres, \u001b[38;5;28mself\u001b[39m\u001b[38;5;241m.\u001b[39mcovalent, \u001b[38;5;28mself\u001b[39m\u001b[38;5;241m.\u001b[39maltconformations, \u001b[38;5;28mself\u001b[39m\u001b[38;5;241m.\u001b[39mcorrected_pdb \u001b[38;5;241m=\u001b[39m \u001b[38;5;28;43mself\u001b[39;49m\u001b[38;5;241;43m.\u001b[39;49m\u001b[43mparse_pdb\u001b[49m\u001b[43m(\u001b[49m\u001b[43m)\u001b[49m\n",
      "File \u001b[0;32m~/mambaforge/envs/fegrow/lib/python3.10/site-packages/plip/structure/preparation.py:43\u001b[0m, in \u001b[0;36mPDBParser.parse_pdb\u001b[0;34m(self)\u001b[0m\n\u001b[1;32m     41\u001b[0m     fil \u001b[38;5;241m=\u001b[39m \u001b[38;5;28mself\u001b[39m\u001b[38;5;241m.\u001b[39mpdbpath\u001b[38;5;241m.\u001b[39mrstrip(\u001b[38;5;124m'\u001b[39m\u001b[38;5;130;01m\\n\u001b[39;00m\u001b[38;5;124m'\u001b[39m)\u001b[38;5;241m.\u001b[39msplit(\u001b[38;5;124m'\u001b[39m\u001b[38;5;130;01m\\n\u001b[39;00m\u001b[38;5;124m'\u001b[39m)  \u001b[38;5;66;03m# Removing trailing newline character\u001b[39;00m\n\u001b[1;32m     42\u001b[0m \u001b[38;5;28;01melse\u001b[39;00m:\n\u001b[0;32m---> 43\u001b[0m     f \u001b[38;5;241m=\u001b[39m \u001b[43mread\u001b[49m\u001b[43m(\u001b[49m\u001b[38;5;28;43mself\u001b[39;49m\u001b[38;5;241;43m.\u001b[39;49m\u001b[43mpdbpath\u001b[49m\u001b[43m)\u001b[49m\n\u001b[1;32m     44\u001b[0m     fil \u001b[38;5;241m=\u001b[39m f\u001b[38;5;241m.\u001b[39mreadlines()\n\u001b[1;32m     45\u001b[0m     f\u001b[38;5;241m.\u001b[39mclose()\n",
      "File \u001b[0;32m~/mambaforge/envs/fegrow/lib/python3.10/site-packages/plip/basic/supplemental.py:383\u001b[0m, in \u001b[0;36mread\u001b[0;34m(fil)\u001b[0m\n\u001b[1;32m    381\u001b[0m     \u001b[38;5;28;01mreturn\u001b[39;00m zf\u001b[38;5;241m.\u001b[39mopen(zf\u001b[38;5;241m.\u001b[39minfolist()[\u001b[38;5;241m0\u001b[39m]\u001b[38;5;241m.\u001b[39mfilename)\n\u001b[1;32m    382\u001b[0m \u001b[38;5;28;01melse\u001b[39;00m:\n\u001b[0;32m--> 383\u001b[0m     \u001b[38;5;28;01mreturn\u001b[39;00m \u001b[38;5;28;43mopen\u001b[39;49m\u001b[43m(\u001b[49m\u001b[43mfil\u001b[49m\u001b[43m,\u001b[49m\u001b[43m \u001b[49m\u001b[38;5;124;43m'\u001b[39;49m\u001b[38;5;124;43mr\u001b[39;49m\u001b[38;5;124;43m'\u001b[39;49m\u001b[43m)\u001b[49m\n",
      "\u001b[0;31mFileNotFoundError\u001b[0m: [Errno 2] No such file or directory: './1_complexh.pdb'"
     ]
    }
   ],
   "source": [
    "i_dict = {}\n",
    "struc_dir = '.'\n",
    "for i in [1,5,6,10]:\n",
    "    i_dict[str(i)] = itrns, _ = plip_mpro_score(struc_dir+f'/{i}_complexh.pdb')\n",
    "\n",
    "i_dict"
   ]
  },
  {
   "cell_type": "code",
   "execution_count": 22,
   "id": "cf0c890c-200f-4725-88c7-219fc3504530",
   "metadata": {},
   "outputs": [
    {
     "data": {
      "text/plain": [
       "{'5RGI': (['hydrophobic_GLU_166',\n",
       "   'hdonor_HIS_163_7',\n",
       "   'hdonor_SER_144_8',\n",
       "   'hdonor_GLY_143_7',\n",
       "   'hdonor_SER_144_7',\n",
       "   'hdonor_CYS_145_7'],\n",
       "  0.17857142857142858),\n",
       " '5RF7': (['hydrophobic_MET_49',\n",
       "   'hydrophobic_GLU_166',\n",
       "   'hdonor_GLU_166_7',\n",
       "   'hdonor_HIS_163_7'],\n",
       "  0.06896551724137931),\n",
       " '5RF2': (['hydrophobic_THR_25',\n",
       "   'hdonor_THR_25_8',\n",
       "   'hacceptor_CYS_44_8',\n",
       "   'hacceptor_HIS_41_8'],\n",
       "  0.14814814814814814),\n",
       " '5RG1': (['hdonor_SER_144_8',\n",
       "   'hdonor_HIS_163_7',\n",
       "   'hdonor_GLU_166_7',\n",
       "   'hacceptor_SER_144_8',\n",
       "   'hacceptor_GLU_166_8'],\n",
       "  0.14285714285714285),\n",
       " '5RGK': (['hydrophobic_ASN_142',\n",
       "   'hydrophobic_GLU_166',\n",
       "   'hdonor_ASN_142_7',\n",
       "   'hdonor_HIS_163_7',\n",
       "   'hacceptor_ASN_142_8'],\n",
       "  0.10344827586206896)}"
      ]
     },
     "execution_count": 22,
     "metadata": {},
     "output_type": "execute_result"
    }
   ],
   "source": [
    "i_dict = {}\n",
    "struc_dir = '/home/cree/code/gal/cs50k/enamine_study/sars-cov-2-main-protease-al-study-plip/plip_tests'\n",
    "for i in ['5RGI', '5RF7', '5RF2', '5RG1', '5RGK']:\n",
    "    i_dict[str(i)] = itrns, _ = plip_mpro_score(struc_dir+f'/{i}_h.pdb')\n",
    "\n",
    "i_dict"
   ]
  },
  {
   "cell_type": "code",
   "execution_count": 32,
   "id": "9d5991b3-b00a-4c25-b3d3-fb141d3b8901",
   "metadata": {},
   "outputs": [
    {
     "data": {
      "text/plain": [
       "{'10': (['hydrophobic_GLU_166',\n",
       "   'hdonor_GLU_166_7',\n",
       "   'hdonor_GLY_143_7',\n",
       "   'hdonor_SER_144_7',\n",
       "   'hdonor_CYS_145_7'],\n",
       "  0.18518518518518517)}"
      ]
     },
     "execution_count": 32,
     "metadata": {},
     "output_type": "execute_result"
    }
   ],
   "source": [
    "a_dict = {}\n",
    "a_dict[str('10')] = itrns, _ = plip_mpro_score('../10_altrec.pdb')\n",
    "a_dict"
   ]
  },
  {
   "cell_type": "code",
   "execution_count": 34,
   "id": "b7c053e9-3a4d-49c5-8dfa-018883bc1d27",
   "metadata": {},
   "outputs": [],
   "source": [
    "mpro_xstal = {'hacceptor_THR_25_8',\n",
    "                                         'hdonor_THR_25_8',\n",
    "                                         'hydrophobic_THR_25',\n",
    "                                         'hacceptor_HIS_41_8',\n",
    "                                         'hydrophobic_HIS_41',\n",
    "                                         'pistacking_HIS_41',\n",
    "                                         'hacceptor_CYS_44_8',\n",
    "                                         'hydrophobic_PHE_140',\n",
    "                                         'hacceptor_ASN_142_8',\n",
    "                                         'hdonor_ASN_142_7',\n",
    "                                         'hdonor_GLY_143_7',\n",
    "                                        'hacceptor_SER_144_8',\n",
    "                                        'hdonor_SER_144_7',\n",
    "                                        'hdonor_SER_144_8',\n",
    "                                        'hdonor_CYS_145_7',\n",
    "                                        'hacceptor_HIS_163_7',\n",
    "                                        'hydrophobic_MET_165',\n",
    "                                        'hacceptor_GLU_166_8',\n",
    "                                        'hdonor_GLU_166_7',\n",
    "                                        'hdonor_GLU_166_8',\n",
    "                                        'hydrophobic_GLU_166',\n",
    "                                        'saltbridge_GLU_166',\n",
    "                                        'hydrophobic_PRO_168',\n",
    "                                        'hydrophobic_ASP_187',\n",
    "                                        'hacceptor_GLN_189_8',\n",
    "                                        'hdonor_GLN_189_7',\n",
    "                                        'hydrophobic_GLN_189'}"
   ]
  },
  {
   "cell_type": "code",
   "execution_count": 35,
   "id": "ba58e002-f80e-4e87-a613-ed68b8379f56",
   "metadata": {},
   "outputs": [
    {
     "data": {
      "text/plain": [
       "27"
      ]
     },
     "execution_count": 35,
     "metadata": {},
     "output_type": "execute_result"
    }
   ],
   "source": [
    "len(mpro_xstal)"
   ]
  },
  {
   "cell_type": "code",
   "execution_count": 68,
   "id": "c267f0d1-d02c-4e65-ba37-146d5f8828c3",
   "metadata": {},
   "outputs": [
    {
     "data": {
      "text/plain": [
       "{'matt': (['hydrophobic_HIS_41',\n",
       "   'hydrophobic_GLU_166',\n",
       "   'hydrophobic_GLN_189',\n",
       "   'hdonor_GLU_166_7',\n",
       "   'hdonor_HIS_163_7',\n",
       "   'hdonor_GLY_143_7',\n",
       "   'hdonor_CYS_145_7',\n",
       "   'hacceptor_ASN_142_8',\n",
       "   'pistacking_HIS_41'],\n",
       "  0.2857142857142857)}"
      ]
     },
     "execution_count": 68,
     "metadata": {},
     "output_type": "execute_result"
    }
   ],
   "source": [
    "a_dict = {}\n",
    "a_dict[str('matt')] = itrns, _ = plip_mpro_score('../matt_h.pdb')\n",
    "a_dict"
   ]
  },
  {
   "cell_type": "code",
   "execution_count": null,
   "id": "2d81d1fe-a84f-4626-91ca-1d131e7fca26",
   "metadata": {},
   "outputs": [],
   "source": []
  }
 ],
 "metadata": {
  "kernelspec": {
   "display_name": "fegrow",
   "language": "python",
   "name": "fegrow"
  },
  "language_info": {
   "codemirror_mode": {
    "name": "ipython",
    "version": 3
   },
   "file_extension": ".py",
   "mimetype": "text/x-python",
   "name": "python",
   "nbconvert_exporter": "python",
   "pygments_lexer": "ipython3",
   "version": "3.10.12"
  }
 },
 "nbformat": 4,
 "nbformat_minor": 5
}
